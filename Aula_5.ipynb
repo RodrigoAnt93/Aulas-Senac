{
  "nbformat": 4,
  "nbformat_minor": 0,
  "metadata": {
    "colab": {
      "provenance": [],
      "authorship_tag": "ABX9TyOsJDHS3C5ld4llpkHFlYgo",
      "include_colab_link": true
    },
    "kernelspec": {
      "name": "python3",
      "display_name": "Python 3"
    },
    "language_info": {
      "name": "python"
    }
  },
  "cells": [
    {
      "cell_type": "markdown",
      "metadata": {
        "id": "view-in-github",
        "colab_type": "text"
      },
      "source": [
        "<a href=\"https://colab.research.google.com/github/RodrigoAnt93/Aulas-Senac/blob/main/Aula_5.ipynb\" target=\"_parent\"><img src=\"https://colab.research.google.com/assets/colab-badge.svg\" alt=\"Open In Colab\"/></a>"
      ]
    },
    {
      "cell_type": "code",
      "execution_count": 3,
      "metadata": {
        "id": "llwN-x_pLdQ2"
      },
      "outputs": [],
      "source": [
        "def funcaoLeitura():\n",
        "  for i in range(5):\n",
        "    print(f'Numero {i}')\n"
      ]
    },
    {
      "cell_type": "code",
      "source": [
        "funcaoLeitura()"
      ],
      "metadata": {
        "id": "CzE1h3V4L4qu"
      },
      "execution_count": null,
      "outputs": []
    },
    {
      "cell_type": "code",
      "source": [
        "def addNum(n1, n2):\n",
        "  print(f'O primeiro número é {n1}')\n",
        "  print(f'O segundo número é {n2}')\n",
        "  print(f'A soma número é {n1 + n2}')"
      ],
      "metadata": {
        "id": "Bg5k1OWoMNt0"
      },
      "execution_count": 5,
      "outputs": []
    },
    {
      "cell_type": "code",
      "source": [
        "varGlobal = 10\n",
        "def multiplicacao(num1, num2):\n",
        "  varGlobal = (num1 * num2)\n",
        "  print(f'Variável da função Multiplica {varGlobal}')"
      ],
      "metadata": {
        "id": "utFhPlWLO063"
      },
      "execution_count": 6,
      "outputs": []
    },
    {
      "cell_type": "code",
      "source": [
        "multiplicacao(5, 4)\n",
        "print(varGlobal)"
      ],
      "metadata": {
        "id": "sIr6VNL0PPVz"
      },
      "execution_count": null,
      "outputs": []
    },
    {
      "cell_type": "code",
      "source": [
        "for i in range(5): print(i)"
      ],
      "metadata": {
        "id": "ZJk38PaXP_RP"
      },
      "execution_count": null,
      "outputs": []
    },
    {
      "cell_type": "code",
      "source": [
        "def separarTexto(txt): return txt.split()"
      ],
      "metadata": {
        "id": "bNCrAxg0Tn-r"
      },
      "execution_count": 10,
      "outputs": []
    },
    {
      "cell_type": "code",
      "source": [
        "token = separarTexto('Cibele Maria')"
      ],
      "metadata": {
        "id": "8oRsjamETv7t"
      },
      "execution_count": 11,
      "outputs": []
    },
    {
      "cell_type": "code",
      "source": [
        "print(token)"
      ],
      "metadata": {
        "colab": {
          "base_uri": "https://localhost:8080/"
        },
        "id": "dt33eyTLT2Uy",
        "outputId": "9bcdcaeb-0ea7-47e2-c4d0-dfc3dc37f87c"
      },
      "execution_count": 12,
      "outputs": [
        {
          "output_type": "stream",
          "name": "stdout",
          "text": [
            "['Cibele', 'Maria']\n"
          ]
        }
      ]
    },
    {
      "cell_type": "code",
      "source": [
        "def variosParametros(*parametros):\n",
        "  for n, item in enumerate(parametros):\n",
        "    print(f'O parâmetro é {n} {item}')\n",
        "  return;"
      ],
      "metadata": {
        "id": "N7my03hNU8_3"
      },
      "execution_count": 17,
      "outputs": []
    },
    {
      "cell_type": "code",
      "source": [
        "variosParametros()"
      ],
      "metadata": {
        "id": "g67Diz29VirB"
      },
      "execution_count": 20,
      "outputs": []
    },
    {
      "cell_type": "code",
      "source": [
        "variosParametros('pitomba', 'jambo', 'siriguela', 'umbu')"
      ],
      "metadata": {
        "id": "4n_wpTCXWj-e"
      },
      "execution_count": null,
      "outputs": []
    },
    {
      "cell_type": "code",
      "source": [
        "def numPrimo(num):\n",
        "  import math\n",
        "  if (num % 2) == 0 and num > 2:\n",
        "    return ('Este número não é primo')\n",
        "  for i in range(3, int(math.sqrt(num)) + 1, 2):\n",
        "    if (num % i) == 0:\n",
        "      return('Este número não é primo')\n",
        "  return ('Este número é primo!')"
      ],
      "metadata": {
        "id": "Tndb5ri9Wxd5"
      },
      "execution_count": 25,
      "outputs": []
    },
    {
      "cell_type": "code",
      "source": [
        "numPrimo(55)"
      ],
      "metadata": {
        "colab": {
          "base_uri": "https://localhost:8080/",
          "height": 35
        },
        "id": "ecYsLaU8ZBal",
        "outputId": "c6e2e20c-1b2d-42aa-fabe-ba09d1db736c"
      },
      "execution_count": 26,
      "outputs": [
        {
          "output_type": "execute_result",
          "data": {
            "text/plain": [
              "'Este número não é primo'"
            ],
            "application/vnd.google.colaboratory.intrinsic+json": {
              "type": "string"
            }
          },
          "metadata": {},
          "execution_count": 26
        }
      ]
    },
    {
      "cell_type": "code",
      "source": [
        "def soma(n1, n2):\n",
        "  return n1 + n2\n",
        "\n",
        "def subtrai(n1, n2):\n",
        "  return n1 - n2\n",
        "\n",
        "def multiplica(n1, n2):\n",
        "  return n1 * n2\n",
        "\n",
        "def divide(n1, n2):\n",
        "  return n1 / n2"
      ],
      "metadata": {
        "id": "pm2XuFYQZOo6"
      },
      "execution_count": 27,
      "outputs": []
    },
    {
      "cell_type": "code",
      "source": [
        "while True:\n",
        "  print('+============================+')\n",
        "  print(' MENU DE OPERAÇÃO')\n",
        "  print('  1 - somar        ')\n",
        "  print('  2 - subtrair')\n",
        "  print('  3 - multiplicar')\n",
        "  print('  4 - dividir')\n",
        "  print('  0 - sair ')\n",
        "  print()\n",
        "  opc = int(input('Qual sua escolha? '))\n",
        "  if opc == 0:\n",
        "    break\n",
        "  n1 = float(input('Digite o primeiro valor: '))\n",
        "  n2 = float(input('Digite o segundo valor: '))\n",
        "  print('=-' * 20)\n",
        "  if opc == 1:\n",
        "    print(f'O resultado da soma é {soma(n1, n2)}')\n",
        "  elif opc == 2:\n",
        "    print(f'O resultado da subtração é {subtrai(n1, n2)}')\n",
        "  elif opc == 3:\n",
        "    print(f'O resultado da multiplicação é {multiplicacao(n1, n2)}')\n",
        "  elif opc == 4:\n",
        "    print(f'O resultado da divisão é {divide(n1, n2)}')\n",
        "  print()\n"
      ],
      "metadata": {
        "id": "gFSZ5phraUtV"
      },
      "execution_count": null,
      "outputs": []
    },
    {
      "cell_type": "code",
      "source": [
        "class Pessoa():\n",
        "  def _init_(self, n, i):\n",
        "    self.nome = n\n",
        "    self.idade = i\n",
        "  \n",
        "\n",
        "  def apresentacao(self):\n",
        "    print('Seja bem vindo ao sistema SENAC!')\n",
        "  \n",
        "\n",
        "class PessoaFisica():\n",
        "  def __init__(self, n, i, cpf):\n",
        "    self.nome = n\n",
        "    self.idade = i\n",
        "    self.cpf = cpf\n",
        "  \n",
        "\n",
        "  def impostoDeRenda(self, *salario):\n",
        "    s = sum(salario)\n",
        "    ir = s*0.015\n",
        "    print(f' O valor do seu imposto de renda é R$ {ir}')\n",
        "    return ir\n",
        "\n",
        "\n",
        "class PessoaJuridica():\n",
        "  def __init__(self, n, i, cnpj):\n",
        "    self.nome = n\n",
        "    self.idade = i\n",
        "    self.cnpj = cnpj\n",
        "  \n",
        "  def apresentacao(self):\n",
        "    print('Seja bem vindo ao Python!')\n",
        "\n",
        "\n",
        "  def impostoDeRenda(self, salario):\n",
        "    ir = salario*0.10\n",
        "    print(f'O valor do seu imposto de renda é R${ir}')\n",
        "    return ir"
      ],
      "metadata": {
        "id": "P9T1qfzyc3aV"
      },
      "execution_count": 31,
      "outputs": []
    },
    {
      "cell_type": "code",
      "source": [
        "nome = str(input('Nome: '))\n",
        "age = int(input('Idade? '))\n",
        "cnpj = int(input('CNPJ: '))\n",
        "serumaninho = Pessoa(nome, age)\n",
        "comunidade = PessoaJuridica(nome, age, cnpj)"
      ],
      "metadata": {
        "id": "e9VPyeJCekod"
      },
      "execution_count": null,
      "outputs": []
    },
    {
      "cell_type": "code",
      "source": [
        "serumaninho.nome"
      ],
      "metadata": {
        "id": "gDoyEix2h-cf"
      },
      "execution_count": null,
      "outputs": []
    },
    {
      "cell_type": "code",
      "source": [],
      "metadata": {
        "id": "JNkL1_JDiFPY"
      },
      "execution_count": null,
      "outputs": []
    }
  ]
}