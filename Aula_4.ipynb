{
  "nbformat": 4,
  "nbformat_minor": 0,
  "metadata": {
    "colab": {
      "provenance": [],
      "authorship_tag": "ABX9TyN+WLev87I9n/kbOB06pJaz",
      "include_colab_link": true
    },
    "kernelspec": {
      "name": "python3",
      "display_name": "Python 3"
    },
    "language_info": {
      "name": "python"
    }
  },
  "cells": [
    {
      "cell_type": "markdown",
      "metadata": {
        "id": "view-in-github",
        "colab_type": "text"
      },
      "source": [
        "<a href=\"https://colab.research.google.com/github/RodrigoAnt93/Aulas-Senac/blob/main/Aula_4.ipynb\" target=\"_parent\"><img src=\"https://colab.research.google.com/assets/colab-badge.svg\" alt=\"Open In Colab\"/></a>"
      ]
    },
    {
      "cell_type": "code",
      "execution_count": 1,
      "metadata": {
        "colab": {
          "base_uri": "https://localhost:8080/"
        },
        "id": "yX_gI_N-nnuU",
        "outputId": "78b2e4fc-a248-43bf-c4f8-ac42d0a275fe"
      },
      "outputs": [
        {
          "output_type": "stream",
          "name": "stdout",
          "text": [
            "Estamos no elemento 1\n",
            "Estamos no elemento 2\n",
            "Estamos no elemento 3\n",
            "Estamos no elemento 4\n",
            "Estamos no elemento 5\n",
            "Estamos no elemento 6\n"
          ]
        }
      ],
      "source": [
        "for elemento in [1, 2, 3, 4, 5, 6]:\n",
        "  print(f'Estamos no elemento {elemento}')"
      ]
    },
    {
      "cell_type": "code",
      "source": [
        "for elemento in 'STRING':\n",
        "  print(f'Estamos no elemento {elemento}')"
      ],
      "metadata": {
        "colab": {
          "base_uri": "https://localhost:8080/"
        },
        "id": "-VcSKZjTwvMA",
        "outputId": "1474bbf6-0772-4e3d-c208-b51dfbb9ee55"
      },
      "execution_count": 2,
      "outputs": [
        {
          "output_type": "stream",
          "name": "stdout",
          "text": [
            "Estamos no elemento S\n",
            "Estamos no elemento T\n",
            "Estamos no elemento R\n",
            "Estamos no elemento I\n",
            "Estamos no elemento N\n",
            "Estamos no elemento G\n"
          ]
        }
      ]
    },
    {
      "cell_type": "code",
      "source": [
        "for elemento in range(len('STRING')):\n",
        "  print(f'Esatamos no elemento {elemento}')"
      ],
      "metadata": {
        "colab": {
          "base_uri": "https://localhost:8080/"
        },
        "id": "W7Oi8cV-xOFQ",
        "outputId": "337d711e-072c-44f6-ac07-60b46a3bd749"
      },
      "execution_count": 3,
      "outputs": [
        {
          "output_type": "stream",
          "name": "stdout",
          "text": [
            "Esatamos no elemento 0\n",
            "Esatamos no elemento 1\n",
            "Esatamos no elemento 2\n",
            "Esatamos no elemento 3\n",
            "Esatamos no elemento 4\n",
            "Esatamos no elemento 5\n"
          ]
        }
      ]
    },
    {
      "cell_type": "code",
      "source": [
        "elemento = 0"
      ],
      "metadata": {
        "id": "2rpyRah6yixQ"
      },
      "execution_count": 4,
      "outputs": []
    },
    {
      "cell_type": "code",
      "source": [
        "while elemento <= len([1, 2, 3, 4, 5, 6]):\n",
        "  print(f'Estamos no elemento {elemento}')\n",
        "  elemento += 1"
      ],
      "metadata": {
        "colab": {
          "base_uri": "https://localhost:8080/"
        },
        "id": "eWsTTt2FykdE",
        "outputId": "211fa9dc-684f-4f29-91e6-af29d0669156"
      },
      "execution_count": 5,
      "outputs": [
        {
          "output_type": "stream",
          "name": "stdout",
          "text": [
            "Estamos no elemento 0\n",
            "Estamos no elemento 1\n",
            "Estamos no elemento 2\n",
            "Estamos no elemento 3\n",
            "Estamos no elemento 4\n",
            "Estamos no elemento 5\n",
            "Estamos no elemento 6\n"
          ]
        }
      ]
    },
    {
      "cell_type": "code",
      "source": [
        "s = 'STRING'\n",
        "indice = 0\n",
        "\n",
        "while indice in range (len(s)):\n",
        "  print(f'Estamos no elemento {s[indice]}')\n",
        "  indice += 1"
      ],
      "metadata": {
        "colab": {
          "base_uri": "https://localhost:8080/"
        },
        "id": "DbJG2kz7zTsJ",
        "outputId": "27725631-b131-4206-8684-00106739fc8c"
      },
      "execution_count": 6,
      "outputs": [
        {
          "output_type": "stream",
          "name": "stdout",
          "text": [
            "Estamos no elemento S\n",
            "Estamos no elemento T\n",
            "Estamos no elemento R\n",
            "Estamos no elemento I\n",
            "Estamos no elemento N\n",
            "Estamos no elemento G\n"
          ]
        }
      ]
    },
    {
      "cell_type": "code",
      "source": [
        "palavra = 'tranquilo'\n",
        "\n",
        "for indice, letra in enumerate(palavra):\n",
        "  print(indice, letra)"
      ],
      "metadata": {
        "colab": {
          "base_uri": "https://localhost:8080/"
        },
        "id": "dB6_10Nl0G4x",
        "outputId": "11841b76-7c47-4ac3-a011-a4c9cb6d8cb6"
      },
      "execution_count": 7,
      "outputs": [
        {
          "output_type": "stream",
          "name": "stdout",
          "text": [
            "0 t\n",
            "1 r\n",
            "2 a\n",
            "3 n\n",
            "4 q\n",
            "5 u\n",
            "6 i\n",
            "7 l\n",
            "8 o\n"
          ]
        }
      ]
    },
    {
      "cell_type": "code",
      "source": [
        "lista = ['eat', 'sleep', 'repeat']\n",
        "palavra = 'geek'"
      ],
      "metadata": {
        "id": "pPeksmTZ2epe"
      },
      "execution_count": 8,
      "outputs": []
    },
    {
      "cell_type": "code",
      "source": [
        "objeto1 = enumerate(lista)\n",
        "objeto2 = enumerate(palavra)"
      ],
      "metadata": {
        "id": "WO0aEu-s2nL8"
      },
      "execution_count": 9,
      "outputs": []
    },
    {
      "cell_type": "code",
      "source": [
        "print(f'Tipo: {type(objeto1)}')\n",
        "print(list(enumerate(lista)))"
      ],
      "metadata": {
        "colab": {
          "base_uri": "https://localhost:8080/"
        },
        "id": "thOOD7K93AZb",
        "outputId": "578e3c32-f7e5-4d03-c85e-6baa5fbbda69"
      },
      "execution_count": 10,
      "outputs": [
        {
          "output_type": "stream",
          "name": "stdout",
          "text": [
            "Tipo: <class 'enumerate'>\n",
            "[(0, 'eat'), (1, 'sleep'), (2, 'repeat')]\n"
          ]
        }
      ]
    },
    {
      "cell_type": "code",
      "source": [
        "print(list(enumerate(palavra, 2)))"
      ],
      "metadata": {
        "colab": {
          "base_uri": "https://localhost:8080/"
        },
        "id": "W2VKQNGZ38cV",
        "outputId": "1c074f74-2698-4fb7-9bd2-96f4a7391a6b"
      },
      "execution_count": 11,
      "outputs": [
        {
          "output_type": "stream",
          "name": "stdout",
          "text": [
            "[(2, 'g'), (3, 'e'), (4, 'e'), (5, 'k')]\n"
          ]
        }
      ]
    },
    {
      "cell_type": "code",
      "source": [
        "s = 'viva o python'\n",
        "for ch in s:\n",
        "  print('oi')"
      ],
      "metadata": {
        "colab": {
          "base_uri": "https://localhost:8080/"
        },
        "id": "4vS9LQ494VzQ",
        "outputId": "5ab902c0-d896-4aa4-c360-c69ccbcb52c6"
      },
      "execution_count": 12,
      "outputs": [
        {
          "output_type": "stream",
          "name": "stdout",
          "text": [
            "oi\n",
            "oi\n",
            "oi\n",
            "oi\n",
            "oi\n",
            "oi\n",
            "oi\n",
            "oi\n",
            "oi\n",
            "oi\n",
            "oi\n",
            "oi\n",
            "oi\n"
          ]
        }
      ]
    },
    {
      "cell_type": "code",
      "source": [
        "s = 'viva o python'\n",
        "for ch in s[3:8]:\n",
        "  print('oi')"
      ],
      "metadata": {
        "colab": {
          "base_uri": "https://localhost:8080/"
        },
        "id": "y1qIDryv4llo",
        "outputId": "81508d95-44f8-43c5-8217-e765b35e714c"
      },
      "execution_count": 13,
      "outputs": [
        {
          "output_type": "stream",
          "name": "stdout",
          "text": [
            "oi\n",
            "oi\n",
            "oi\n",
            "oi\n",
            "oi\n"
          ]
        }
      ]
    },
    {
      "cell_type": "code",
      "source": [
        "impar = 0\n",
        "par = 0\n",
        "\n",
        "for c in range(10):\n",
        "  perg = int(input('Digite um número inteiro: '))\n",
        "  if perg % 2 == 0:\n",
        "    par += 1\n",
        "  else:\n",
        "    impar += 1\n",
        "print()\n",
        "print(f'Foram digitados {par} numeros pares')\n",
        "print(f'Foram digitamos {impar} numeros impares')"
      ],
      "metadata": {
        "colab": {
          "base_uri": "https://localhost:8080/"
        },
        "id": "WNudVCFJ6Plx",
        "outputId": "6062768c-348a-4c1d-8b6e-b5d987354cb9"
      },
      "execution_count": 17,
      "outputs": [
        {
          "output_type": "stream",
          "name": "stdout",
          "text": [
            "Digite um número inteiro: 2\n",
            "Digite um número inteiro: 2\n",
            "Digite um número inteiro: 2\n",
            "Digite um número inteiro: 2\n",
            "Digite um número inteiro: 2\n",
            "Digite um número inteiro: 1\n",
            "Digite um número inteiro: 1\n",
            "Digite um número inteiro: 1\n",
            "Digite um número inteiro: 1\n",
            "Digite um número inteiro: 1\n",
            "\n",
            "Foram digitados 5 numeros pares\n",
            "Foram digitamos 5 numeros impares\n"
          ]
        }
      ]
    },
    {
      "cell_type": "code",
      "source": [
        "while True:\n",
        "  perg = str(input('Qual dia de semana é hoje? ')).upper()\n",
        "  if perg == 'SABADO' or perg == 'DOMINGO':\n",
        "    print('Hoje é dia de descanso!')\n",
        "  else:\n",
        "    print('Você precisa trabalhar...')\n",
        "  opc = str(input('Deseja continuar? [s/n] ')).lower()\n",
        "  if opc == 'n':\n",
        "    break\n",
        "  print()"
      ],
      "metadata": {
        "colab": {
          "base_uri": "https://localhost:8080/"
        },
        "id": "MIQDLViV7yDQ",
        "outputId": "dfe797ae-a03d-4bd0-88c0-7a925e9cf662"
      },
      "execution_count": 23,
      "outputs": [
        {
          "name": "stdout",
          "output_type": "stream",
          "text": [
            "Qual dia de semana é hoje? SABADO\n",
            "Hoje é dia de descanso!\n",
            "Deseja continuar? [s/n] N\n"
          ]
        }
      ]
    },
    {
      "cell_type": "code",
      "source": [
        "lista = list(range(1, 51))"
      ],
      "metadata": {
        "id": "vCH8WTil_YFu"
      },
      "execution_count": 30,
      "outputs": []
    },
    {
      "cell_type": "code",
      "source": [
        "for num in lista:\n",
        "  if num % 2 == 0:\n",
        "    print(num)\n",
        "  else:\n",
        "    print(num * num)"
      ],
      "metadata": {
        "colab": {
          "base_uri": "https://localhost:8080/"
        },
        "id": "R-F-SHmg_dZ_",
        "outputId": "13bf9611-baaa-4b3e-f667-e762a6a1eedd"
      },
      "execution_count": 31,
      "outputs": [
        {
          "output_type": "stream",
          "name": "stdout",
          "text": [
            "1\n",
            "2\n",
            "9\n",
            "4\n",
            "25\n",
            "6\n",
            "49\n",
            "8\n",
            "81\n",
            "10\n",
            "121\n",
            "12\n",
            "169\n",
            "14\n",
            "225\n",
            "16\n",
            "289\n",
            "18\n",
            "361\n",
            "20\n",
            "441\n",
            "22\n",
            "529\n",
            "24\n",
            "625\n",
            "26\n",
            "729\n",
            "28\n",
            "841\n",
            "30\n",
            "961\n",
            "32\n",
            "1089\n",
            "34\n",
            "1225\n",
            "36\n",
            "1369\n",
            "38\n",
            "1521\n",
            "40\n",
            "1681\n",
            "42\n",
            "1849\n",
            "44\n",
            "2025\n",
            "46\n",
            "2209\n",
            "48\n",
            "2401\n",
            "50\n"
          ]
        }
      ]
    },
    {
      "cell_type": "code",
      "source": [
        "perg = str(input('Digite uma palavra: ')).lower()\n",
        "\n",
        "for c, p in enumerate(perg):\n",
        "  if p == 'a' or p == 'e' or p == 'i' or p == 'o' or p == 'u':\n",
        "    print(f'A letra \"{p}\" está no índice {c}')"
      ],
      "metadata": {
        "colab": {
          "base_uri": "https://localhost:8080/"
        },
        "id": "sO4qy47fCXKG",
        "outputId": "5cdcad8f-72d2-4d9f-e4b6-dc729efd317d"
      },
      "execution_count": 34,
      "outputs": [
        {
          "output_type": "stream",
          "name": "stdout",
          "text": [
            "Digite uma palavra: rodrigo antonio\n",
            "A letra \"o\" está no índice 1\n",
            "A letra \"i\" está no índice 4\n",
            "A letra \"o\" está no índice 6\n",
            "A letra \"a\" está no índice 8\n",
            "A letra \"o\" está no índice 11\n",
            "A letra \"i\" está no índice 13\n",
            "A letra \"o\" está no índice 14\n"
          ]
        }
      ]
    },
    {
      "cell_type": "code",
      "source": [
        "for nome in ['Reginaldo', 'Gisele Pintcher', 'Scoob', \n",
        "'Marlene', 'Zezinho', 'Cibele', 'Suely']:\n",
        "  convite = (f'oi, {nome}! Por favor, venha para o sábado pet em minha casa.')\n",
        "  print(convite)"
      ],
      "metadata": {
        "colab": {
          "base_uri": "https://localhost:8080/"
        },
        "id": "rjwmUmrYD2q8",
        "outputId": "5392d33f-2e0a-4ed8-fee5-474fa066c4d6"
      },
      "execution_count": 36,
      "outputs": [
        {
          "output_type": "stream",
          "name": "stdout",
          "text": [
            "oi, Reginaldo! Por favor, venha para o sábado pet em minha casa.\n",
            "oi, Gisele Pintcher! Por favor, venha para o sábado pet em minha casa.\n",
            "oi, Scoob! Por favor, venha para o sábado pet em minha casa.\n",
            "oi, Marlene! Por favor, venha para o sábado pet em minha casa.\n",
            "oi, Zezinho! Por favor, venha para o sábado pet em minha casa.\n",
            "oi, Cibele! Por favor, venha para o sábado pet em minha casa.\n",
            "oi, Suely! Por favor, venha para o sábado pet em minha casa.\n"
          ]
        }
      ]
    },
    {
      "cell_type": "code",
      "source": [
        "frutas = ['Morango', 'Pera', 'Banana', 'Goiaba', 'Melão' ]"
      ],
      "metadata": {
        "id": "O5nO18_5E9nv"
      },
      "execution_count": 37,
      "outputs": []
    },
    {
      "cell_type": "code",
      "source": [
        "'Morango' in frutas"
      ],
      "metadata": {
        "colab": {
          "base_uri": "https://localhost:8080/"
        },
        "id": "rieRB5uQFGtw",
        "outputId": "71f5b111-a7ad-4d18-8119-40802059f36f"
      },
      "execution_count": 38,
      "outputs": [
        {
          "output_type": "execute_result",
          "data": {
            "text/plain": [
              "True"
            ]
          },
          "metadata": {},
          "execution_count": 38
        }
      ]
    },
    {
      "cell_type": "code",
      "source": [
        "for num in range(100, 151):\n",
        "  if num % 2 == 0:\n",
        "    print(num)"
      ],
      "metadata": {
        "colab": {
          "base_uri": "https://localhost:8080/"
        },
        "id": "hcmGuWMYF12b",
        "outputId": "9e60d799-d46b-4485-c8c3-bd75aea1bd64"
      },
      "execution_count": 39,
      "outputs": [
        {
          "output_type": "stream",
          "name": "stdout",
          "text": [
            "100\n",
            "102\n",
            "104\n",
            "106\n",
            "108\n",
            "110\n",
            "112\n",
            "114\n",
            "116\n",
            "118\n",
            "120\n",
            "122\n",
            "124\n",
            "126\n",
            "128\n",
            "130\n",
            "132\n",
            "134\n",
            "136\n",
            "138\n",
            "140\n",
            "142\n",
            "144\n",
            "146\n",
            "148\n",
            "150\n"
          ]
        }
      ]
    },
    {
      "cell_type": "code",
      "source": [
        "temperatura = 40"
      ],
      "metadata": {
        "id": "mC-S_4NpHHW_"
      },
      "execution_count": 40,
      "outputs": []
    },
    {
      "cell_type": "code",
      "source": [
        "temperatura = 40\n",
        "while temperatura > 25:\n",
        "  print(f'A temperatura atual é {temperatura}°, mas ela está caindo...')\n",
        "  temperatura -= 1\n",
        "\n",
        "print('A temperatura estabilizou!')"
      ],
      "metadata": {
        "colab": {
          "base_uri": "https://localhost:8080/"
        },
        "id": "Y7rbwzCUHOP5",
        "outputId": "a0d00f91-422e-41ed-b34b-fe4069d86638"
      },
      "execution_count": 44,
      "outputs": [
        {
          "output_type": "stream",
          "name": "stdout",
          "text": [
            "A temperatura atual é 40°, mas ela está caindo...\n",
            "A temperatura atual é 39°, mas ela está caindo...\n",
            "A temperatura atual é 38°, mas ela está caindo...\n",
            "A temperatura atual é 37°, mas ela está caindo...\n",
            "A temperatura atual é 36°, mas ela está caindo...\n",
            "A temperatura atual é 35°, mas ela está caindo...\n",
            "A temperatura atual é 34°, mas ela está caindo...\n",
            "A temperatura atual é 33°, mas ela está caindo...\n",
            "A temperatura atual é 32°, mas ela está caindo...\n",
            "A temperatura atual é 31°, mas ela está caindo...\n",
            "A temperatura atual é 30°, mas ela está caindo...\n",
            "A temperatura atual é 29°, mas ela está caindo...\n",
            "A temperatura atual é 28°, mas ela está caindo...\n",
            "A temperatura atual é 27°, mas ela está caindo...\n",
            "A temperatura atual é 26°, mas ela está caindo...\n",
            "A temperatura estabilizou!\n"
          ]
        }
      ]
    }
  ]
}