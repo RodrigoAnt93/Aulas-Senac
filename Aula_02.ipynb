{
  "nbformat": 4,
  "nbformat_minor": 0,
  "metadata": {
    "colab": {
      "provenance": []
    },
    "kernelspec": {
      "name": "python3",
      "display_name": "Python 3"
    },
    "language_info": {
      "name": "python"
    }
  },
  "cells": [
    {
      "cell_type": "code",
      "execution_count": null,
      "metadata": {
        "id": "eVSNtmpNR0XF"
      },
      "outputs": [],
      "source": [
        "idade1 = 20"
      ]
    },
    {
      "cell_type": "code",
      "source": [
        "idade2 = 35"
      ],
      "metadata": {
        "id": "2Uu2PUlpSeYP"
      },
      "execution_count": null,
      "outputs": []
    },
    {
      "cell_type": "code",
      "source": [
        "idade1 + idade2"
      ],
      "metadata": {
        "colab": {
          "base_uri": "https://localhost:8080/"
        },
        "id": "YUSwTuONShrH",
        "outputId": "19e254ae-19ea-4700-991f-d8fd36e12597"
      },
      "execution_count": null,
      "outputs": [
        {
          "output_type": "execute_result",
          "data": {
            "text/plain": [
              "55"
            ]
          },
          "metadata": {},
          "execution_count": 3
        }
      ]
    },
    {
      "cell_type": "code",
      "source": [
        "somaIdade = idade1 + idade2"
      ],
      "metadata": {
        "id": "v8KBsCdiSrBn"
      },
      "execution_count": null,
      "outputs": []
    },
    {
      "cell_type": "code",
      "source": [
        "idade1 - idade2"
      ],
      "metadata": {
        "colab": {
          "base_uri": "https://localhost:8080/"
        },
        "id": "7nAK3dDcS3x3",
        "outputId": "d62bd1c1-80ac-447d-ee6e-bc2e788e374a"
      },
      "execution_count": null,
      "outputs": [
        {
          "output_type": "execute_result",
          "data": {
            "text/plain": [
              "-15"
            ]
          },
          "metadata": {},
          "execution_count": 5
        }
      ]
    },
    {
      "cell_type": "code",
      "source": [
        "idade1 * idade2"
      ],
      "metadata": {
        "colab": {
          "base_uri": "https://localhost:8080/"
        },
        "id": "xXQN9-pzS9G_",
        "outputId": "823e9e51-16fb-4d0b-d704-969bf2136312"
      },
      "execution_count": null,
      "outputs": [
        {
          "output_type": "execute_result",
          "data": {
            "text/plain": [
              "700"
            ]
          },
          "metadata": {},
          "execution_count": 6
        }
      ]
    },
    {
      "cell_type": "code",
      "source": [
        "idade1 / idade2"
      ],
      "metadata": {
        "colab": {
          "base_uri": "https://localhost:8080/"
        },
        "id": "RL0Qp-snTAbB",
        "outputId": "6f8fcaca-6ddb-4602-c177-112dbf6b22d8"
      },
      "execution_count": null,
      "outputs": [
        {
          "output_type": "execute_result",
          "data": {
            "text/plain": [
              "0.5714285714285714"
            ]
          },
          "metadata": {},
          "execution_count": 7
        }
      ]
    },
    {
      "cell_type": "code",
      "source": [
        "idade1 + idade2"
      ],
      "metadata": {
        "colab": {
          "base_uri": "https://localhost:8080/"
        },
        "id": "AgERnSe5TKsf",
        "outputId": "8cbf962d-6fc4-426c-ba60-2e471eaa737f"
      },
      "execution_count": null,
      "outputs": [
        {
          "output_type": "execute_result",
          "data": {
            "text/plain": [
              "55"
            ]
          },
          "metadata": {},
          "execution_count": 8
        }
      ]
    },
    {
      "cell_type": "code",
      "source": [
        "2 * (idade1 + idade2)"
      ],
      "metadata": {
        "colab": {
          "base_uri": "https://localhost:8080/"
        },
        "id": "QNCcvJZOTWPp",
        "outputId": "3a90d545-e6b6-48f2-8115-101f4c588e5f"
      },
      "execution_count": null,
      "outputs": [
        {
          "output_type": "execute_result",
          "data": {
            "text/plain": [
              "110"
            ]
          },
          "metadata": {},
          "execution_count": 9
        }
      ]
    },
    {
      "cell_type": "code",
      "source": [
        "2 * idade1 + 3 * idade2 / 4"
      ],
      "metadata": {
        "colab": {
          "base_uri": "https://localhost:8080/"
        },
        "id": "MCQztJfzTbr3",
        "outputId": "fac82224-8a57-42c5-9340-ab6d713b4812"
      },
      "execution_count": null,
      "outputs": [
        {
          "output_type": "execute_result",
          "data": {
            "text/plain": [
              "66.25"
            ]
          },
          "metadata": {},
          "execution_count": 10
        }
      ]
    },
    {
      "cell_type": "code",
      "source": [
        "(2 * idade1 + 3 * idade2) / 4"
      ],
      "metadata": {
        "colab": {
          "base_uri": "https://localhost:8080/"
        },
        "id": "gmObRzU9TiY3",
        "outputId": "b38d6080-9c03-4c0d-9fc1-b73d73f72b6e"
      },
      "execution_count": null,
      "outputs": [
        {
          "output_type": "execute_result",
          "data": {
            "text/plain": [
              "36.25"
            ]
          },
          "metadata": {},
          "execution_count": 11
        }
      ]
    },
    {
      "cell_type": "code",
      "source": [
        "idade1 ** 2"
      ],
      "metadata": {
        "colab": {
          "base_uri": "https://localhost:8080/"
        },
        "id": "jYsqQfe6T0WQ",
        "outputId": "33588721-61d3-40c3-dc30-45004da7d7c1"
      },
      "execution_count": null,
      "outputs": [
        {
          "output_type": "execute_result",
          "data": {
            "text/plain": [
              "400"
            ]
          },
          "metadata": {},
          "execution_count": 12
        }
      ]
    },
    {
      "cell_type": "code",
      "source": [
        "15 ** 2"
      ],
      "metadata": {
        "colab": {
          "base_uri": "https://localhost:8080/"
        },
        "id": "tVeRnTGET3Y-",
        "outputId": "0c416c29-9e90-4f10-e6bc-507945d16cac"
      },
      "execution_count": null,
      "outputs": [
        {
          "output_type": "execute_result",
          "data": {
            "text/plain": [
              "225"
            ]
          },
          "metadata": {},
          "execution_count": 13
        }
      ]
    },
    {
      "cell_type": "code",
      "source": [
        "idade1 // idade2"
      ],
      "metadata": {
        "colab": {
          "base_uri": "https://localhost:8080/"
        },
        "id": "-tuF5ufoUUoT",
        "outputId": "338b2286-325f-4603-b61c-05c393ff3fea"
      },
      "execution_count": null,
      "outputs": [
        {
          "output_type": "execute_result",
          "data": {
            "text/plain": [
              "0"
            ]
          },
          "metadata": {},
          "execution_count": 14
        }
      ]
    },
    {
      "cell_type": "code",
      "source": [
        "idade2 / idade1"
      ],
      "metadata": {
        "colab": {
          "base_uri": "https://localhost:8080/"
        },
        "id": "8ABFGMGfUYhf",
        "outputId": "5d190ae1-8088-4795-efb0-1defec6d09fc"
      },
      "execution_count": null,
      "outputs": [
        {
          "output_type": "execute_result",
          "data": {
            "text/plain": [
              "1.75"
            ]
          },
          "metadata": {},
          "execution_count": 15
        }
      ]
    },
    {
      "cell_type": "code",
      "source": [
        "idade2 % idade1"
      ],
      "metadata": {
        "colab": {
          "base_uri": "https://localhost:8080/"
        },
        "id": "PJIIr37MUmeO",
        "outputId": "5ccc06a7-2e53-4204-f429-3251f84648ff"
      },
      "execution_count": null,
      "outputs": [
        {
          "output_type": "execute_result",
          "data": {
            "text/plain": [
              "15"
            ]
          },
          "metadata": {},
          "execution_count": 16
        }
      ]
    },
    {
      "cell_type": "code",
      "source": [
        "nome = \"Rodrigo\"\n",
        "sobrenome = 'Antonio'"
      ],
      "metadata": {
        "id": "nnCcWqojUt8o"
      },
      "execution_count": null,
      "outputs": []
    },
    {
      "cell_type": "code",
      "source": [
        "print(nome + sobrenome)"
      ],
      "metadata": {
        "colab": {
          "base_uri": "https://localhost:8080/"
        },
        "id": "Dwjsux-HU4af",
        "outputId": "6e380572-d8ee-4b29-f0b8-c94969b3ab29"
      },
      "execution_count": null,
      "outputs": [
        {
          "output_type": "stream",
          "name": "stdout",
          "text": [
            "RodrigoAntonio\n"
          ]
        }
      ]
    },
    {
      "cell_type": "code",
      "source": [
        "print (f'{nome} {sobrenome}')"
      ],
      "metadata": {
        "colab": {
          "base_uri": "https://localhost:8080/"
        },
        "id": "uk6-knP7VMIw",
        "outputId": "acb17f81-26f0-42c2-982a-7b40fce5750b"
      },
      "execution_count": null,
      "outputs": [
        {
          "output_type": "stream",
          "name": "stdout",
          "text": [
            "Rodrigo Antonio\n"
          ]
        }
      ]
    },
    {
      "cell_type": "code",
      "source": [
        "print(f'Olá, {nome}. Você tem {idade1 + 9} anos.')"
      ],
      "metadata": {
        "colab": {
          "base_uri": "https://localhost:8080/"
        },
        "id": "Gw8657AeVUuG",
        "outputId": "93d9c646-e851-4461-e619-d1e5e57d6e6d"
      },
      "execution_count": null,
      "outputs": [
        {
          "output_type": "stream",
          "name": "stdout",
          "text": [
            "Olá, Rodrigo. Você tem 29 anos.\n"
          ]
        }
      ]
    },
    {
      "cell_type": "code",
      "source": [
        "print(f'Olá, {nome}. \\nVocê tem {idade1 + 9} anos.')"
      ],
      "metadata": {
        "colab": {
          "base_uri": "https://localhost:8080/"
        },
        "id": "WjP8m-dyW6O_",
        "outputId": "5fac9a9d-213d-4ab8-b3ea-d1892b386b93"
      },
      "execution_count": null,
      "outputs": [
        {
          "output_type": "stream",
          "name": "stdout",
          "text": [
            "Olá, Rodrigo. \n",
            "Você tem 29 anos.\n"
          ]
        }
      ]
    },
    {
      "cell_type": "code",
      "source": [
        "nome = input(str('Digite seu nome: '))"
      ],
      "metadata": {
        "colab": {
          "base_uri": "https://localhost:8080/"
        },
        "id": "6TRwUOdgXeoG",
        "outputId": "a474b3ea-6612-4055-c447-7b6a78fac6b3"
      },
      "execution_count": null,
      "outputs": [
        {
          "name": "stdout",
          "output_type": "stream",
          "text": [
            "Digite seu nome: Rodrigo\n"
          ]
        }
      ]
    },
    {
      "cell_type": "code",
      "source": [
        "idade = int(input('Qual a sua idade? '))"
      ],
      "metadata": {
        "colab": {
          "base_uri": "https://localhost:8080/"
        },
        "id": "BaiKsHGIYnRA",
        "outputId": "594443cc-fc66-4087-cc24-22c5426092c7"
      },
      "execution_count": null,
      "outputs": [
        {
          "name": "stdout",
          "output_type": "stream",
          "text": [
            "Qual a sua idade? 29\n"
          ]
        }
      ]
    },
    {
      "cell_type": "code",
      "source": [
        "valor1 = input('Digite um número inteiro: ')\n",
        "valor2 = input('Digite outro valor inteiro ')"
      ],
      "metadata": {
        "colab": {
          "base_uri": "https://localhost:8080/"
        },
        "id": "KthxkogZaCar",
        "outputId": "ee2ad1d6-5fb9-4989-88a4-5e43208e7df8"
      },
      "execution_count": null,
      "outputs": [
        {
          "name": "stdout",
          "output_type": "stream",
          "text": [
            "Digite um número inteiro: 5\n",
            "Digite outro valor inteiro 3\n"
          ]
        }
      ]
    },
    {
      "cell_type": "code",
      "source": [
        "print(valor1 == valor2)\n",
        "print(valor1 > valor2)\n",
        "print(valor1 < valor2)\n",
        "print(valor1 >= valor2)\n",
        "print(valor1 <= valor2)"
      ],
      "metadata": {
        "colab": {
          "base_uri": "https://localhost:8080/"
        },
        "id": "0rWsjBgqaRQm",
        "outputId": "1a6967ce-8beb-4881-cec3-1770ae9a7d27"
      },
      "execution_count": null,
      "outputs": [
        {
          "output_type": "stream",
          "name": "stdout",
          "text": [
            "False\n",
            "True\n",
            "False\n",
            "True\n",
            "False\n"
          ]
        }
      ]
    },
    {
      "cell_type": "code",
      "source": [
        "numero = 10\n",
        "print(numero>0 and numero<10)"
      ],
      "metadata": {
        "colab": {
          "base_uri": "https://localhost:8080/"
        },
        "id": "Y9afDfe3ca_3",
        "outputId": "c4a97e32-5df3-42e6-c814-2e8b169fb237"
      },
      "execution_count": null,
      "outputs": [
        {
          "output_type": "stream",
          "name": "stdout",
          "text": [
            "False\n"
          ]
        }
      ]
    },
    {
      "cell_type": "code",
      "source": [
        "numero = 10\n",
        "print(numero>0 or numero<10)"
      ],
      "metadata": {
        "colab": {
          "base_uri": "https://localhost:8080/"
        },
        "id": "lKU5RDj6cyNG",
        "outputId": "5ebc5918-6b52-4fff-b22a-414159065797"
      },
      "execution_count": null,
      "outputs": [
        {
          "output_type": "stream",
          "name": "stdout",
          "text": [
            "True\n"
          ]
        }
      ]
    },
    {
      "cell_type": "code",
      "source": [
        "if ():\n",
        "  print()\n",
        "else:\n",
        "  print()"
      ],
      "metadata": {
        "id": "b4QhwIyuddBX"
      },
      "execution_count": null,
      "outputs": []
    },
    {
      "cell_type": "code",
      "source": [
        "num = int(input('Digite um valor: '))\n",
        "if num % 2 == 0:\n",
        "  print(f'Você digitou {num} e ele é PAR!')\n",
        "else:\n",
        "  print(f'Você digitou {num} e ele é IMPAR!')"
      ],
      "metadata": {
        "colab": {
          "base_uri": "https://localhost:8080/"
        },
        "id": "eyNYYeO4d0qe",
        "outputId": "175557ff-645e-49d3-d3f7-413375e99457"
      },
      "execution_count": null,
      "outputs": [
        {
          "output_type": "stream",
          "name": "stdout",
          "text": [
            "Digite um valor: 5\n",
            "Você digitou 5 e ele é IMPAR!\n"
          ]
        }
      ]
    },
    {
      "cell_type": "code",
      "source": [
        "cupom = input('Digite o cupom: ')"
      ],
      "metadata": {
        "colab": {
          "base_uri": "https://localhost:8080/"
        },
        "id": "IDh6B6prhPOT",
        "outputId": "11fe083e-ca06-4007-9a52-f1c58d6989ee"
      },
      "execution_count": null,
      "outputs": [
        {
          "name": "stdout",
          "output_type": "stream",
          "text": [
            "Digite o cupom: eqw,\n"
          ]
        }
      ]
    },
    {
      "cell_type": "code",
      "source": [
        "if cupom == \"aula1\" or cupom == 'aula2':\n",
        "  print('Você ganhou 10% de desconto')\n",
        "else: \n",
        "  print('Cupom inválido')"
      ],
      "metadata": {
        "colab": {
          "base_uri": "https://localhost:8080/"
        },
        "id": "_tl473hvhVlC",
        "outputId": "8c023759-270b-450b-dd5a-67da457aaa8e"
      },
      "execution_count": null,
      "outputs": [
        {
          "output_type": "stream",
          "name": "stdout",
          "text": [
            "Cupom inválido\n"
          ]
        }
      ]
    },
    {
      "cell_type": "code",
      "source": [
        "valor = int(input('Qual valor da sua compra? '))\n",
        "cupom = str(input('Qual cupom de desconto? '))\n",
        "print()\n",
        "if cupom == \"aula1\" or cupom == 'aula2':\n",
        "  desc = valor / 100 * 15\n",
        "  print(f'Você ganhou uma desconto de 15% e sua compra saiu por R${valor - desc:.2f}')\n",
        "else:\n",
        "  desc = valor / 100 * 5\n",
        "  print(f'Você ganhou uma desconto de 5% e sua compra saiu por R${valor - desc:.2f}')"
      ],
      "metadata": {
        "colab": {
          "base_uri": "https://localhost:8080/"
        },
        "id": "Ig4gebl8imEX",
        "outputId": "1a02d396-a8db-4242-ece2-6a73e53284bc"
      },
      "execution_count": null,
      "outputs": [
        {
          "output_type": "stream",
          "name": "stdout",
          "text": [
            "Qual valor da sua compra? 100\n",
            "Qual cupom de desconto? dsds\n",
            "\n",
            "Você ganhou uma desconto de 5% e sua compra saiu por R$95.00\n"
          ]
        }
      ]
    },
    {
      "cell_type": "code",
      "source": [
        "if ():\n",
        "  print()\n",
        "elif ():\n",
        "  print()\n",
        "else:\n",
        "  print()"
      ],
      "metadata": {
        "id": "FUYgBetumrXt"
      },
      "execution_count": null,
      "outputs": []
    },
    {
      "cell_type": "code",
      "source": [
        "valor = int(input('Qual valor da sua compra? '))\n",
        "cupom = str(input('Qual cupom de desconto? '))\n",
        "print()\n",
        "if cupom == \"aula1\":\n",
        "  desc = valor / 100 * 15\n",
        "  print(f'Você ganhou uma desconto de 15% e sua compra saiu por R${valor - desc:.2f}')\n",
        "elif cupom == 'aula2':\n",
        "  desc = valor / 100 * 10\n",
        "  print(f'Você ganhou uma desconto de 10% e sua compra saiu por R${valor - desc:.2f}')\n",
        "else:\n",
        "  desc = valor / 100 * 5\n",
        "  print(f'Você ganhou uma desconto de 5% e sua compra saiu por R${valor - desc:.2f}')"
      ],
      "metadata": {
        "colab": {
          "base_uri": "https://localhost:8080/"
        },
        "id": "00uhz5kAnK_6",
        "outputId": "fc0e69b1-6e51-4d51-b9a7-eda42341a8d6"
      },
      "execution_count": null,
      "outputs": [
        {
          "output_type": "stream",
          "name": "stdout",
          "text": [
            "Qual valor da sua compra? 100\n",
            "Qual cupom de desconto? aula2\n",
            "\n",
            "Você ganhou uma desconto de 10% e sua compra saiu por R$90.00\n"
          ]
        }
      ]
    },
    {
      "cell_type": "code",
      "source": [
        "if 1 == 1:\n",
        "  print('Verdadeiro')\n",
        "  if (1 == 2) == False:\n",
        "    print('Verdadeiro')"
      ],
      "metadata": {
        "colab": {
          "base_uri": "https://localhost:8080/"
        },
        "id": "RVE92S58ojUm",
        "outputId": "d228b3d4-82ec-4bbe-d2e1-96455f74f449"
      },
      "execution_count": null,
      "outputs": [
        {
          "output_type": "stream",
          "name": "stdout",
          "text": [
            "Verdadeiro\n",
            "Verdadeiro\n"
          ]
        }
      ]
    },
    {
      "cell_type": "code",
      "source": [
        "clima = str(input('O dia está de sol?[s/n] '))\n",
        "\n",
        "if clima == 'S' or clima == 's':\n",
        "  money = str(input('Tem grana?[s/n] '))\n",
        "  if money == 'S' or money == 's':\n",
        "    print('Vai para praia que tu merece!')\n",
        "  else:\n",
        "    print('Um Netflix seria melhor...')\n",
        "else:\n",
        "  print('Dia chuvoso ou nublado pede Netflix...')\n"
      ],
      "metadata": {
        "colab": {
          "base_uri": "https://localhost:8080/"
        },
        "id": "L3Kj5Oe7rbQ4",
        "outputId": "1b4cc0ff-7e5f-4053-ca45-bc0d4731a136"
      },
      "execution_count": null,
      "outputs": [
        {
          "output_type": "stream",
          "name": "stdout",
          "text": [
            "O dia está de sol?[s/n] n\n",
            "Dia chuvoso ou nublado pede Netflix...\n"
          ]
        }
      ]
    },
    {
      "cell_type": "code",
      "source": [
        "clima = str(input('O dia está de sol?[s/n] '))\n",
        "money = str(input('Tem grana?[s/n] '))\n",
        "\n",
        "if clima == 's' or money == 's':\n",
        "  print('Vamos para praia!')\n",
        "else:\n",
        "  print('Dia chuvoso ou nublado pede Netflix...')"
      ],
      "metadata": {
        "id": "mC-QokHJzAl1"
      },
      "execution_count": null,
      "outputs": []
    },
    {
      "cell_type": "code",
      "source": [
        "clima = str(input('O dia está de sol?[s/n] '))\n",
        "\n",
        "if clima == 'S' or clima == 's':\n",
        "  money = str(input('Tem grana?[s/n] '))\n",
        "  if money == 'S' or money == 's':\n",
        "    print('Vai para praia que tu merece!')\n",
        "  else:\n",
        "    print('Um Netflix seria melhor...')\n",
        "else:\n",
        "  print('Dia chuvoso ou nublado pede Netflix...')\n"
      ],
      "metadata": {
        "id": "H3_fPZYpz_L-"
      },
      "execution_count": null,
      "outputs": []
    },
    {
      "cell_type": "code",
      "source": [
        "x = 4\n",
        "\n",
        "0 < x < 5"
      ],
      "metadata": {
        "colab": {
          "base_uri": "https://localhost:8080/"
        },
        "id": "XZYh_Do43gcE",
        "outputId": "21fed942-bf48-4a89-9967-331a89d494db"
      },
      "execution_count": null,
      "outputs": [
        {
          "output_type": "execute_result",
          "data": {
            "text/plain": [
              "True"
            ]
          },
          "metadata": {},
          "execution_count": 54
        }
      ]
    },
    {
      "cell_type": "code",
      "source": [
        "ano = int(input(\"Qual o ano do carro? \"))\n",
        "valor = float(input('Qual o valor do carro? '))\n",
        "print()\n",
        "if ano < 1990:\n",
        "  taxa = 1 / 100 * valor\n",
        "  print(f'O valor do carro já com a taxa de 1% é R${taxa + valor:.2f}')\n",
        "else:\n",
        "  taxa = valor / 100 * 1.5\n",
        "  print(f'O valor do carro já com a taxa de 1,5% é R${taxa + valor:.2f}')"
      ],
      "metadata": {
        "colab": {
          "base_uri": "https://localhost:8080/"
        },
        "id": "yiC5DdbH6Fxs",
        "outputId": "c63bdb8e-fb3f-4d20-b789-20ac93d8d31c"
      },
      "execution_count": null,
      "outputs": [
        {
          "output_type": "stream",
          "name": "stdout",
          "text": [
            "Qual o ano do carro? 1989\n",
            "Qual o valor do carro? 100\n",
            "\n",
            "O valor do carro já com a taxa de 1% é R$101.00\n"
          ]
        }
      ]
    },
    {
      "cell_type": "code",
      "source": [
        "cargo = int(input('Qual código do ser cargo? '))\n",
        "salario = float(input('Qual seu salário atual? '))\n",
        "print()\n",
        "if cargo == 101:\n",
        "  novo_salario = (salario / 100 * 10) + salario\n",
        "  print(f'Seu salário atual é R${salario} e vai passar a ser R${novo_salario}')\n",
        "elif cargo == 102:\n",
        "    novo_salario = (salario / 100 * 20) + salario\n",
        "    print(f'Seu salário atual é R${salario} e vai passar a ser R${novo_salario}')\n",
        "elif cargo == 103:\n",
        "    novo_salario = (salario / 100 * 30) + salario\n",
        "    print(f'Seu salário atual é R${salario} e vai passar a ser R${novo_salario}')\n",
        "else:\n",
        "  novo_salario = (salario / 100 * 40) + salario\n",
        "  print(f'Seu salário atual é R${salario} e vai passar a ser R${novo_salario}')"
      ],
      "metadata": {
        "colab": {
          "base_uri": "https://localhost:8080/"
        },
        "id": "sChsLj_p_HaL",
        "outputId": "81178374-5d4e-414d-d9ca-f4f3ee3e786f"
      },
      "execution_count": null,
      "outputs": [
        {
          "output_type": "stream",
          "name": "stdout",
          "text": [
            "Qual código do ser cargo? 100\n",
            "Qual seu salário atual? 100\n",
            "\n",
            "Seu salário atual é 100.0 e vai passar a ser 140.0\n"
          ]
        }
      ]
    }
  ]
}