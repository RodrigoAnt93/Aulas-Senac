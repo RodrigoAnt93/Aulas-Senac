{
  "nbformat": 4,
  "nbformat_minor": 0,
  "metadata": {
    "colab": {
      "provenance": [],
      "authorship_tag": "ABX9TyOTp9lwOv1XEwJg1DOM6fZ0",
      "include_colab_link": true
    },
    "kernelspec": {
      "name": "python3",
      "display_name": "Python 3"
    },
    "language_info": {
      "name": "python"
    }
  },
  "cells": [
    {
      "cell_type": "markdown",
      "metadata": {
        "id": "view-in-github",
        "colab_type": "text"
      },
      "source": [
        "<a href=\"https://colab.research.google.com/github/RodrigoAnt93/Aulas-Senac/blob/main/Aula_9.ipynb\" target=\"_parent\"><img src=\"https://colab.research.google.com/assets/colab-badge.svg\" alt=\"Open In Colab\"/></a>"
      ]
    },
    {
      "cell_type": "code",
      "execution_count": null,
      "metadata": {
        "colab": {
          "base_uri": "https://localhost:8080/"
        },
        "id": "vwRnmlZetuCd",
        "outputId": "43037740-58d4-4548-eba6-83089df42c6f"
      },
      "outputs": [
        {
          "output_type": "stream",
          "name": "stdout",
          "text": [
            "1\n"
          ]
        }
      ],
      "source": [
        "print(1)"
      ]
    },
    {
      "cell_type": "markdown",
      "source": [
        "1 tossindo\n",
        "2 espirrando\n",
        "3 falta de Ar\n",
        "4 febre"
      ],
      "metadata": {
        "id": "MLNk4xV1OQXh"
      }
    },
    {
      "cell_type": "code",
      "source": [
        "gripado1 = [1, 1, 1, 1]\n",
        "gripado2 = [0, 1, 0, 1]\n",
        "gripado3 = [1, 1, 0, 0]\n",
        "gripado4 = [1, 1, 0, 1]\n",
        "\n",
        "alergico1 = [1, 1, 0, 0]\n",
        "alergico2 = [0, 1, 0, 0]\n",
        "alergico3 = [1, 0, 1, 0]\n",
        "alergico4 = [0, 1, 1, 0]"
      ],
      "metadata": {
        "id": "V42lNlcvuihv"
      },
      "execution_count": null,
      "outputs": []
    },
    {
      "cell_type": "code",
      "source": [
        "dados = [gripado1, gripado2, gripado3, gripado4, alergico1, alergico2, alergico3, alergico4]\n",
        "\n",
        "categorias = [1, 1, 1, 1, 0, 0, 0, 0]"
      ],
      "metadata": {
        "id": "8Ay2s0Neuin2"
      },
      "execution_count": null,
      "outputs": []
    },
    {
      "cell_type": "code",
      "source": [
        "from sklearn.svm import LinearSVC"
      ],
      "metadata": {
        "id": "AxIv4-_bPsnf"
      },
      "execution_count": null,
      "outputs": []
    },
    {
      "cell_type": "markdown",
      "source": [
        "# **Rodando nosso treino**"
      ],
      "metadata": {
        "id": "YmGmlT4JQk0Y"
      }
    },
    {
      "cell_type": "code",
      "source": [
        "modelo = LinearSVC()\n",
        "modelo.fit(dados, categorias)"
      ],
      "metadata": {
        "colab": {
          "base_uri": "https://localhost:8080/"
        },
        "id": "4Zf4V5_gQoU7",
        "outputId": "9f862918-84ed-41f3-e638-b8bb5347e0ed"
      },
      "execution_count": null,
      "outputs": [
        {
          "output_type": "execute_result",
          "data": {
            "text/plain": [
              "LinearSVC()"
            ]
          },
          "metadata": {},
          "execution_count": 5
        }
      ]
    },
    {
      "cell_type": "markdown",
      "source": [
        "# **Definindo dados de teste**"
      ],
      "metadata": {
        "id": "N2miR6TTRnCI"
      }
    },
    {
      "cell_type": "code",
      "source": [
        "paciente1 = [0, 1, 0, 1]\n",
        "paciente2 = [0, 0, 0, 0]\n",
        "paciente3 = [1, 1, 1, 1]\n",
        "paciente4 = [0, 1, 0, 1]\n",
        "\n",
        "dados_teste = [paciente1, paciente2, paciente3, paciente4]"
      ],
      "metadata": {
        "id": "ouEwc3OYRrV4"
      },
      "execution_count": null,
      "outputs": []
    },
    {
      "cell_type": "markdown",
      "source": [
        "# **Testando**"
      ],
      "metadata": {
        "id": "5nkeLLS6U3bm"
      }
    },
    {
      "cell_type": "code",
      "source": [
        "modelo.predict(dados_teste)"
      ],
      "metadata": {
        "colab": {
          "base_uri": "https://localhost:8080/"
        },
        "id": "SytPe9x_Uqvh",
        "outputId": "71462348-376c-4682-bf43-55b326e0dc44"
      },
      "execution_count": null,
      "outputs": [
        {
          "output_type": "execute_result",
          "data": {
            "text/plain": [
              "array([1, 0, 1, 1])"
            ]
          },
          "metadata": {},
          "execution_count": 7
        }
      ]
    },
    {
      "cell_type": "markdown",
      "source": [
        "# **Dado um novo paciente, vamos avaliar a possibilidade de ele não está doente**"
      ],
      "metadata": {
        "id": "9vf3SjjkYAKI"
      }
    },
    {
      "cell_type": "code",
      "source": [
        "novo_paciente = [0, 1, 0, 0]\n",
        "modelo.predict([novo_paciente])"
      ],
      "metadata": {
        "colab": {
          "base_uri": "https://localhost:8080/"
        },
        "id": "lBVMU4T9XxS3",
        "outputId": "8dcca98f-d601-444b-dfa3-d25f8ed6b463"
      },
      "execution_count": null,
      "outputs": [
        {
          "output_type": "execute_result",
          "data": {
            "text/plain": [
              "array([0])"
            ]
          },
          "metadata": {},
          "execution_count": 9
        }
      ]
    },
    {
      "cell_type": "code",
      "source": [
        "if (modelo.predict([novo_paciente]) == 0):\n",
        "  print('Paciente potencialmente alérgico')\n",
        "else:\n",
        "  print('Paciente potencialmente gripado')"
      ],
      "metadata": {
        "colab": {
          "base_uri": "https://localhost:8080/"
        },
        "id": "AClwKIvgYpV2",
        "outputId": "d3351072-e3ba-4a94-84a6-8b4a559ffc17"
      },
      "execution_count": null,
      "outputs": [
        {
          "output_type": "stream",
          "name": "stdout",
          "text": [
            "Paciente potencialmente alérgico\n"
          ]
        }
      ]
    },
    {
      "cell_type": "markdown",
      "source": [
        "# **Vamos salvar a aplicação do nosso modelo sobre os dados de teste na variável predições**"
      ],
      "metadata": {
        "id": "AhRjOWxCZMfm"
      }
    },
    {
      "cell_type": "code",
      "source": [
        "predicoes = modelo.predict(dados_teste)"
      ],
      "metadata": {
        "id": "8m5k5S8HZa1t"
      },
      "execution_count": null,
      "outputs": []
    },
    {
      "cell_type": "code",
      "source": [
        "exames = [1, 0, 1, 0]"
      ],
      "metadata": {
        "id": "Pw5NI4ygZwZ9"
      },
      "execution_count": null,
      "outputs": []
    },
    {
      "cell_type": "code",
      "source": [
        "predicoes == exames"
      ],
      "metadata": {
        "colab": {
          "base_uri": "https://localhost:8080/"
        },
        "id": "VHklYkSwZ0aN",
        "outputId": "ea3c13fd-d4ad-4a32-b55c-7f95d9a9c5e9"
      },
      "execution_count": null,
      "outputs": [
        {
          "output_type": "execute_result",
          "data": {
            "text/plain": [
              "array([ True,  True,  True, False])"
            ]
          },
          "metadata": {},
          "execution_count": 13
        }
      ]
    },
    {
      "cell_type": "code",
      "source": [
        "#total de acertos do nosso modelo:\n",
        "total_acertos = (predicoes == exames).sum()\n",
        "total_acertos"
      ],
      "metadata": {
        "colab": {
          "base_uri": "https://localhost:8080/"
        },
        "id": "TwPCZ_jja56k",
        "outputId": "179ec48e-56d5-499c-f3e0-73e0d40efc6b"
      },
      "execution_count": null,
      "outputs": [
        {
          "output_type": "execute_result",
          "data": {
            "text/plain": [
              "3"
            ]
          },
          "metadata": {},
          "execution_count": 14
        }
      ]
    },
    {
      "cell_type": "code",
      "source": [
        "total_predicoes = len(dados_teste)\n",
        "total_predicoes"
      ],
      "metadata": {
        "colab": {
          "base_uri": "https://localhost:8080/"
        },
        "id": "6q1hgUQkc32s",
        "outputId": "a697d9bb-d0ec-4021-ccaf-18809a43a25f"
      },
      "execution_count": null,
      "outputs": [
        {
          "output_type": "execute_result",
          "data": {
            "text/plain": [
              "4"
            ]
          },
          "metadata": {},
          "execution_count": 15
        }
      ]
    },
    {
      "cell_type": "code",
      "source": [
        "taxa_sucesso = total_acertos / total_predicoes * 100\n",
        "taxa_sucesso"
      ],
      "metadata": {
        "colab": {
          "base_uri": "https://localhost:8080/"
        },
        "id": "Yme4-jCBdkBk",
        "outputId": "f86de137-3653-4ce0-8ab2-93914d981db3"
      },
      "execution_count": null,
      "outputs": [
        {
          "output_type": "execute_result",
          "data": {
            "text/plain": [
              "75.0"
            ]
          },
          "metadata": {},
          "execution_count": 16
        }
      ]
    },
    {
      "cell_type": "code",
      "source": [
        "print(f'A taxa de sucesso do seu modelo preditivo foi de {taxa_sucesso}%')"
      ],
      "metadata": {
        "colab": {
          "base_uri": "https://localhost:8080/"
        },
        "id": "TaKIiyS6eQ5r",
        "outputId": "4f22d396-da94-4ae2-bdf0-1e369558c862"
      },
      "execution_count": null,
      "outputs": [
        {
          "output_type": "stream",
          "name": "stdout",
          "text": [
            "A taxa de sucesso do seu modelo preditivo foi de 75.0%\n"
          ]
        }
      ]
    },
    {
      "cell_type": "code",
      "source": [
        "from sklearn.metrics import accuracy_score\n",
        "taxa_sucesso = accuracy_score(total_acertos / total_predicoes)"
      ],
      "metadata": {
        "colab": {
          "base_uri": "https://localhost:8080/",
          "height": 187
        },
        "id": "Xgy6fUHveijd",
        "outputId": "e423cfba-8a11-4bad-b9ac-a7cc4702e951"
      },
      "execution_count": null,
      "outputs": [
        {
          "output_type": "error",
          "ename": "TypeError",
          "evalue": "ignored",
          "traceback": [
            "\u001b[0;31m---------------------------------------------------------------------------\u001b[0m",
            "\u001b[0;31mTypeError\u001b[0m                                 Traceback (most recent call last)",
            "\u001b[0;32m<ipython-input-18-4c643b5200d8>\u001b[0m in \u001b[0;36m<module>\u001b[0;34m\u001b[0m\n\u001b[1;32m      1\u001b[0m \u001b[0;32mfrom\u001b[0m \u001b[0msklearn\u001b[0m\u001b[0;34m.\u001b[0m\u001b[0mmetrics\u001b[0m \u001b[0;32mimport\u001b[0m \u001b[0maccuracy_score\u001b[0m\u001b[0;34m\u001b[0m\u001b[0;34m\u001b[0m\u001b[0m\n\u001b[0;32m----> 2\u001b[0;31m \u001b[0mtaxa_sucesso\u001b[0m \u001b[0;34m=\u001b[0m \u001b[0maccuracy_score\u001b[0m\u001b[0;34m(\u001b[0m\u001b[0mtotal_acertos\u001b[0m \u001b[0;34m/\u001b[0m \u001b[0mtotal_predicoes\u001b[0m\u001b[0;34m)\u001b[0m\u001b[0;34m\u001b[0m\u001b[0;34m\u001b[0m\u001b[0m\n\u001b[0m",
            "\u001b[0;31mTypeError\u001b[0m: accuracy_score() missing 1 required positional argument: 'y_pred'"
          ]
        }
      ]
    }
  ]
}